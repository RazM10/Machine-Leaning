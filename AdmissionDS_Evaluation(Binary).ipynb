{
 "cells": [
  {
   "cell_type": "code",
   "execution_count": 74,
   "metadata": {},
   "outputs": [],
   "source": [
    "import pandas as pd\n",
    "import numpy as np\n",
    "import MICE\n",
    "import iMICE\n",
    "\n",
    "df_ds = pd.read_csv('Admission_Predict_Ver1.1.csv')\n",
    "df=df_ds.copy()\n",
    "df['Chance']=df.iloc[:,8].values.copy()\n",
    "\n",
    "df_1=df.copy()\n",
    "df_1 = df_1.drop(df_1.columns[[9]],axis = 1)\n",
    "df_1['ChanceBinary'] = df['Chance'].apply(lambda x: 1 if x >= 0.70 else 0)\n",
    "\n",
    "X = df_1.iloc[:, [1,2,6]].values  \n",
    "y = df_1.iloc[:, 9].values\n",
    "\n",
    "from sklearn.model_selection import train_test_split  \n",
    "X_train, X_test, y_train, y_test = train_test_split(X, y, test_size=0.20, random_state = 0)\n",
    "\n",
    "#actual\n",
    "actual=np.concatenate((y_train,y_test),axis=0)\n",
    "r1=len(y_train)\n",
    "\n",
    "#y_test\n",
    "df_2n = pd.DataFrame({'Chance':y_test[:]})\n",
    "df_2n.at[:,'Chance']=np.nan\n",
    "y_test_n=df_2n.iloc[:,0].values\n",
    "\n",
    "y_train_1=np.concatenate((y_train,y_test_n),axis=0)\n",
    "X_train_1=np.concatenate((X_train,X_test),axis=0)\n",
    "\n",
    "df_2 = pd.DataFrame({'ChanceOfAdmit':y_train_1[:],'GREScore':X_train_1[:,0],'TOEFLScore':X_train_1[:,1],'CGPA':X_train_1[:,2]})\n"
   ]
  },
  {
   "cell_type": "markdown",
   "metadata": {},
   "source": [
    "# MICE"
   ]
  },
  {
   "cell_type": "code",
   "execution_count": 75,
   "metadata": {},
   "outputs": [
    {
     "name": "stdout",
     "output_type": "stream",
     "text": [
      "Accuracy: 0.75\n",
      "0.782608695652174\n",
      "0.7258064516129032\n",
      "0.8490566037735849\n",
      "[[30 17]\n",
      " [ 8 45]]\n"
     ]
    }
   ],
   "source": [
    "mice_result = MICE.MICE(verbose=False, init_fill_method=\"median\", impute_type=\"pmm\", n_imputations=7).complete(np.matrix(df_2))\n",
    "\n",
    "df_3 = pd.DataFrame(mice_result, columns = ['ChanceOfAdmit', 'GREScore', 'TOEFLScore', 'CGPA'])\n",
    "predict = df_3['ChanceOfAdmit']\n",
    "\n",
    "predict = np.array(predict)\n",
    "\n",
    "from sklearn.metrics import accuracy_score,f1_score, precision_score, recall_score\n",
    "from sklearn.metrics import classification_report, confusion_matrix  \n",
    "print('Accuracy:',accuracy_score(y_test, predict[r1:]))\n",
    "print(f1_score(y_test, predict[r1:]))\n",
    "print(precision_score(y_test, predict[r1:]))\n",
    "print(recall_score(y_test, predict[r1:]))\n",
    "\n",
    "#print(classification_report(y_test, predict[r1:]))\n",
    "print(confusion_matrix(actual[r1:], predict[r1:])) "
   ]
  },
  {
   "cell_type": "markdown",
   "metadata": {},
   "source": [
    "# iMICE"
   ]
  },
  {
   "cell_type": "code",
   "execution_count": 76,
   "metadata": {},
   "outputs": [
    {
     "name": "stdout",
     "output_type": "stream",
     "text": [
      "Accuracy: 0.83\n",
      "0.8495575221238938\n",
      "0.8\n",
      "0.9056603773584906\n",
      "[[35 12]\n",
      " [ 5 48]]\n"
     ]
    }
   ],
   "source": [
    "imice_result = iMICE.iMICE(verbose=False, init_fill_method=\"median\", impute_type=\"pmm\", n_imputations=7).complete(np.matrix(df_2))\n",
    "\n",
    "df_3i = pd.DataFrame(imice_result, columns = ['ChanceOfAdmit', 'GREScore', 'TOEFLScore', 'CGPA'])\n",
    "predicti = df_3i['ChanceOfAdmit'].map(lambda x: int(x))\n",
    "\n",
    "from sklearn.metrics import accuracy_score,f1_score, precision_score, recall_score\n",
    "from sklearn.metrics import classification_report, confusion_matrix  \n",
    "print('Accuracy:',accuracy_score(y_test, predicti[r1:]))\n",
    "print(f1_score(y_test, predicti[r1:]))\n",
    "print(precision_score(y_test, predicti[r1:]))\n",
    "print(recall_score(y_test, predicti[r1:]))\n",
    "print(confusion_matrix(actual[r1:], predicti[r1:]))"
   ]
  },
  {
   "cell_type": "markdown",
   "metadata": {},
   "source": [
    "# KNN"
   ]
  },
  {
   "cell_type": "code",
   "execution_count": 77,
   "metadata": {},
   "outputs": [
    {
     "name": "stdout",
     "output_type": "stream",
     "text": [
      "0.84\n",
      "[[38  9]\n",
      " [ 7 46]]\n"
     ]
    }
   ],
   "source": [
    "from sklearn.neighbors import KNeighborsClassifier\n",
    "clf = KNeighborsClassifier(3, weights='distance')\n",
    "trained_model = clf.fit(X_train, y_train)\n",
    "y_pred = trained_model.predict(X_test)\n",
    "\n",
    "from sklearn.metrics import classification_report, confusion_matrix, accuracy_score\n",
    "print(accuracy_score(y_test, y_pred))\n",
    "print(confusion_matrix(y_test, y_pred))"
   ]
  },
  {
   "cell_type": "markdown",
   "metadata": {},
   "source": [
    "# Random Forest"
   ]
  },
  {
   "cell_type": "code",
   "execution_count": 78,
   "metadata": {},
   "outputs": [
    {
     "name": "stdout",
     "output_type": "stream",
     "text": [
      "0.83\n",
      "[[37 10]\n",
      " [ 7 46]]\n"
     ]
    }
   ],
   "source": [
    "from sklearn.ensemble import RandomForestRegressor,RandomForestClassifier\n",
    "\n",
    "regressor = RandomForestClassifier(n_estimators=20, random_state=0)  \n",
    "regressor.fit(X_train, y_train)  \n",
    "y_pred = regressor.predict(X_test)\n",
    "\n",
    "from sklearn.metrics import classification_report, confusion_matrix, accuracy_score\n",
    "print(accuracy_score(y_test, y_pred))\n",
    "print(confusion_matrix(y_test, y_pred))"
   ]
  },
  {
   "cell_type": "code",
   "execution_count": null,
   "metadata": {},
   "outputs": [],
   "source": []
  }
 ],
 "metadata": {
  "kernelspec": {
   "display_name": "Python 3",
   "language": "python",
   "name": "python3"
  },
  "language_info": {
   "codemirror_mode": {
    "name": "ipython",
    "version": 3
   },
   "file_extension": ".py",
   "mimetype": "text/x-python",
   "name": "python",
   "nbconvert_exporter": "python",
   "pygments_lexer": "ipython3",
   "version": "3.6.5"
  }
 },
 "nbformat": 4,
 "nbformat_minor": 2
}
