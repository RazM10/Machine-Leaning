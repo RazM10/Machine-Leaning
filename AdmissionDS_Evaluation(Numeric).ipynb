{
 "cells": [
  {
   "cell_type": "code",
   "execution_count": 35,
   "metadata": {},
   "outputs": [
    {
     "name": "stdout",
     "output_type": "stream",
     "text": [
      "Mean Absolute Error: 0.0839\n",
      "Mean Squared Error: 0.012567\n",
      "Root Mean Squared Error: 0.11210263154805956\n"
     ]
    }
   ],
   "source": [
    "import pandas as pd\n",
    "import numpy as np\n",
    "import MICE\n",
    "\n",
    "df_ds = pd.read_csv('Admission_Predict_Ver1.1.csv')\n",
    "df=df_ds.copy()\n",
    "#df = df.drop(df.columns[[10]],axis = 1)\n",
    "#df = df.dropna(axis=0)\n",
    "\n",
    "X = df.iloc[:, [1,2,6]].values  \n",
    "y = df.iloc[:, 8].values\n",
    "\n",
    "from sklearn.model_selection import train_test_split  \n",
    "X_train, X_test, y_train, y_test = train_test_split(X, y, test_size=0.20, random_state = 0)\n",
    "\n",
    "#actual\n",
    "actual=np.concatenate((y_train,y_test),axis=0)\n",
    "r1=len(y_train)\n",
    "\n",
    "r=len(y_test)\n",
    "y_test_n=y_test.copy()\n",
    "y_test_n[0:r]=np.nan\n",
    "\n",
    "y_train_1=np.concatenate((y_train,y_test_n),axis=0)\n",
    "X_train_1=np.concatenate((X_train,X_test),axis=0)\n",
    "\n",
    "df_2 = pd.DataFrame({'ChanceOfAdmit':y_train_1[:],'GREScore':X_train_1[:,0],'TOEFLScore':X_train_1[:,1],'CGPA':X_train_1[:,2]})\n",
    "\n",
    "mice_result = MICE.MICE(verbose=False, init_fill_method=\"median\", impute_type=\"pmm\", n_imputations=7).complete(np.matrix(df_2))\n",
    "\n",
    "df_3 = pd.DataFrame(mice_result, columns = ['ChanceOfAdmit', 'GREScore', 'TOEFLScore', 'CGPA'])\n",
    "predict = df_3['ChanceOfAdmit']\n",
    "\n",
    "predict = np.array(predict)\n",
    "\n",
    "from sklearn import metrics\n",
    "\n",
    "print('Mean Absolute Error:', metrics.mean_absolute_error(actual[r1:], predict[r1:]))  \n",
    "print('Mean Squared Error:', metrics.mean_squared_error(actual[r1:], predict[r1:]))  \n",
    "print('Root Mean Squared Error:', np.sqrt(metrics.mean_squared_error(y_test,predict[r1:])))"
   ]
  },
  {
   "cell_type": "markdown",
   "metadata": {},
   "source": [
    "# iMICE"
   ]
  },
  {
   "cell_type": "code",
   "execution_count": 36,
   "metadata": {},
   "outputs": [
    {
     "name": "stdout",
     "output_type": "stream",
     "text": [
      "Mean Absolute Error: 0.0658\n",
      "Mean Squared Error: 0.007964\n",
      "Root Mean Squared Error: 0.08924124606929243\n"
     ]
    }
   ],
   "source": [
    "import iMICE\n",
    "\n",
    "imice_result = iMICE.iMICE(verbose=False, init_fill_method=\"median\", impute_type=\"pmm\", n_imputations=7).complete(np.matrix(df_2))\n",
    "\n",
    "df_3i = pd.DataFrame(imice_result, columns = ['ChanceOfAdmit', 'GREScore', 'TOEFLScore', 'CGPA'])\n",
    "predicti = df_3i['ChanceOfAdmit']\n",
    "\n",
    "predicti = np.array(predicti)\n",
    "\n",
    "from sklearn import metrics\n",
    "\n",
    "print('Mean Absolute Error:', metrics.mean_absolute_error(actual[r1:], predicti[r1:]))  \n",
    "print('Mean Squared Error:', metrics.mean_squared_error(actual[r1:], predicti[r1:]))  \n",
    "print('Root Mean Squared Error:', np.sqrt(metrics.mean_squared_error(y_test, predicti[r1:]))) "
   ]
  },
  {
   "cell_type": "markdown",
   "metadata": {},
   "source": [
    "# Random Forest"
   ]
  },
  {
   "cell_type": "code",
   "execution_count": 37,
   "metadata": {},
   "outputs": [
    {
     "name": "stdout",
     "output_type": "stream",
     "text": [
      "Mean Absolute Error: 0.04402641666666663\n",
      "Mean Squared Error: 0.004258217436805555\n",
      "Root Mean Squared Error: 0.06525501847984992\n"
     ]
    }
   ],
   "source": [
    "from sklearn.ensemble import RandomForestRegressor,RandomForestClassifier\n",
    "regressor = RandomForestRegressor(n_estimators=20, random_state=0)  \n",
    "regressor.fit(X_train, y_train)  \n",
    "y_pred = regressor.predict(X_test) \n",
    "\n",
    "from sklearn import metrics\n",
    "\n",
    "print('Mean Absolute Error:', metrics.mean_absolute_error(y_test, y_pred))  \n",
    "print('Mean Squared Error:', metrics.mean_squared_error(y_test, y_pred))  \n",
    "print('Root Mean Squared Error:', np.sqrt(metrics.mean_squared_error(y_test, y_pred)))"
   ]
  },
  {
   "cell_type": "markdown",
   "metadata": {},
   "source": [
    "# SVR"
   ]
  },
  {
   "cell_type": "code",
   "execution_count": 38,
   "metadata": {},
   "outputs": [
    {
     "name": "stdout",
     "output_type": "stream",
     "text": [
      "Mean Absolute Error: 0.0792847006854242\n",
      "Mean Squared Error: 0.008920910181305393\n",
      "Root Mean Squared Error: 0.09445057004224693\n"
     ]
    }
   ],
   "source": [
    "from sklearn.svm import SVR\n",
    "svr = SVR(gamma=0.001, C=1.0, epsilon=0.2)\n",
    "svr.fit(X_train, y_train)\n",
    "y_pred=svr.predict(X_test)\n",
    "\n",
    "from sklearn import metrics\n",
    "\n",
    "print('Mean Absolute Error:', metrics.mean_absolute_error(y_test, y_pred))  \n",
    "print('Mean Squared Error:', metrics.mean_squared_error(y_test, y_pred))  \n",
    "print('Root Mean Squared Error:', np.sqrt(metrics.mean_squared_error(y_test, y_pred)))"
   ]
  },
  {
   "cell_type": "code",
   "execution_count": null,
   "metadata": {},
   "outputs": [],
   "source": []
  }
 ],
 "metadata": {
  "kernelspec": {
   "display_name": "Python 3",
   "language": "python",
   "name": "python3"
  },
  "language_info": {
   "codemirror_mode": {
    "name": "ipython",
    "version": 3
   },
   "file_extension": ".py",
   "mimetype": "text/x-python",
   "name": "python",
   "nbconvert_exporter": "python",
   "pygments_lexer": "ipython3",
   "version": "3.6.5"
  }
 },
 "nbformat": 4,
 "nbformat_minor": 2
}
