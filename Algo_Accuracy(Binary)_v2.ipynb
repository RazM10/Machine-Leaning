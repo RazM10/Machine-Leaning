{
 "cells": [
  {
   "cell_type": "code",
   "execution_count": 21,
   "metadata": {},
   "outputs": [],
   "source": [
    "import pandas as pd\n",
    "import numpy as np\n",
    "import MICE\n",
    "import iMICE\n",
    "\n",
    "df_ds = pd.read_csv('titanic.csv')\n",
    "df=df_ds.copy()\n",
    "df = df.drop(df.columns[[10]],axis = 1)\n",
    "df = df.dropna(axis=0)\n",
    "\n",
    "df_1=df.copy()\n",
    "df_1['AgeBinary'] = df['Age'].apply(lambda x: 1 if x >= 19 else 0)\n",
    "\n",
    "X = df_1.iloc[:, [2,9]].values  \n",
    "y = df_1.iloc[:, 11].values\n",
    "\n",
    "from sklearn.model_selection import train_test_split  \n",
    "X_train, X_test, y_train, y_test = train_test_split(X, y, test_size=0.20, random_state = 0)\n",
    "\n",
    "#actual\n",
    "actual=np.concatenate((y_train,y_test),axis=0)\n",
    "r1=len(y_train)\n",
    "\n",
    "#y_test\n",
    "df_2n = pd.DataFrame({'Age':y_test[:]})\n",
    "df_2n.at[:,'Age']=np.nan\n",
    "y_test_n=df_2n.iloc[:,0].values\n",
    "\n",
    "y_train_1=np.concatenate((y_train,y_test_n),axis=0)\n",
    "X_train_1=np.concatenate((X_train,X_test),axis=0)\n",
    "\n",
    "df_2 = pd.DataFrame({'Age':y_train_1[:],'Pclass':X_train_1[:,0],'Fare':X_train_1[:,1]})\n"
   ]
  },
  {
   "cell_type": "markdown",
   "metadata": {},
   "source": [
    "# MICE"
   ]
  },
  {
   "cell_type": "code",
   "execution_count": 25,
   "metadata": {},
   "outputs": [
    {
     "name": "stdout",
     "output_type": "stream",
     "text": [
      "(712, 3)\n",
      "0.7762237762237763\n",
      "0.873015873015873\n",
      "0.8148148148148148\n",
      "0.9401709401709402\n",
      "[[  1  25]\n",
      " [  7 110]]\n"
     ]
    }
   ],
   "source": [
    "mice_result = MICE.MICE(verbose=False, init_fill_method=\"median\", impute_type=\"pmm\", n_imputations=7).complete(np.matrix(df_2))\n",
    "\n",
    "print(mice_result.shape)\n",
    "df_3 = pd.DataFrame(mice_result, columns = ['Age', 'Pclass', 'Fare'])\n",
    "predict = df_3['Age']\n",
    "\n",
    "predict = np.array(predict)\n",
    "\n",
    "from sklearn.metrics import accuracy_score,f1_score, precision_score, recall_score\n",
    "from sklearn.metrics import classification_report, confusion_matrix  \n",
    "print(accuracy_score(y_test, predict[r1:]))\n",
    "print(f1_score(y_test, predict[r1:]))\n",
    "print(precision_score(y_test, predict[r1:]))\n",
    "print(recall_score(y_test, predict[r1:]))\n",
    "\n",
    "#print(classification_report(y_test, predict[r1:]))\n",
    "print(confusion_matrix(actual[r1:], predict[r1:])) \n"
   ]
  },
  {
   "cell_type": "markdown",
   "metadata": {},
   "source": [
    "# iMICE"
   ]
  },
  {
   "cell_type": "code",
   "execution_count": 26,
   "metadata": {},
   "outputs": [
    {
     "name": "stdout",
     "output_type": "stream",
     "text": [
      "0.8251748251748252\n",
      "0.873015873015873\n",
      "0.8148148148148148\n",
      "0.9401709401709402\n",
      "[[  2  24]\n",
      " [  1 116]]\n"
     ]
    }
   ],
   "source": [
    "imice_result = iMICE.iMICE(verbose=False, init_fill_method=\"median\", impute_type=\"pmm\", n_imputations=7).complete(np.matrix(df_2))\n",
    "\n",
    "df_3i = pd.DataFrame(imice_result, columns = ['Age Binary', 'Pclass', 'Fare'])\n",
    "predicti = df_3i['Age Binary'].map(lambda x: int(x))\n",
    "\n",
    "from sklearn.metrics import accuracy_score,f1_score, precision_score, recall_score\n",
    "from sklearn.metrics import classification_report, confusion_matrix  \n",
    "print(accuracy_score(y_test, predicti[r1:]))\n",
    "print(f1_score(y_test, predict[r1:]))\n",
    "print(precision_score(y_test, predict[r1:]))\n",
    "print(recall_score(y_test, predict[r1:]))\n",
    "print(confusion_matrix(actual[r1:], predicti[r1:]))"
   ]
  },
  {
   "cell_type": "markdown",
   "metadata": {},
   "source": [
    "# KNN"
   ]
  },
  {
   "cell_type": "code",
   "execution_count": 27,
   "metadata": {},
   "outputs": [
    {
     "name": "stdout",
     "output_type": "stream",
     "text": [
      "0.7552447552447552\n",
      "[[  7  19]\n",
      " [ 16 101]]\n"
     ]
    }
   ],
   "source": [
    "from sklearn.neighbors import KNeighborsClassifier\n",
    "clf = KNeighborsClassifier(3, weights='distance')\n",
    "trained_model = clf.fit(X_train, y_train)\n",
    "y_pred = trained_model.predict(X_test)\n",
    "\n",
    "from sklearn.metrics import classification_report, confusion_matrix, accuracy_score\n",
    "print(accuracy_score(y_test, y_pred))\n",
    "print(confusion_matrix(y_test, y_pred))"
   ]
  },
  {
   "cell_type": "markdown",
   "metadata": {},
   "source": [
    "# Random Forest"
   ]
  },
  {
   "cell_type": "code",
   "execution_count": 28,
   "metadata": {},
   "outputs": [
    {
     "name": "stdout",
     "output_type": "stream",
     "text": [
      "0.7692307692307693\n",
      "[[  5  21]\n",
      " [ 12 105]]\n"
     ]
    }
   ],
   "source": [
    "from sklearn.ensemble import RandomForestRegressor,RandomForestClassifier\n",
    "\n",
    "regressor = RandomForestClassifier(n_estimators=20, random_state=0)  \n",
    "regressor.fit(X_train, y_train)  \n",
    "y_pred = regressor.predict(X_test)\n",
    "\n",
    "from sklearn.metrics import classification_report, confusion_matrix, accuracy_score\n",
    "print(accuracy_score(y_test, y_pred))\n",
    "print(confusion_matrix(y_test, y_pred))"
   ]
  },
  {
   "cell_type": "code",
   "execution_count": null,
   "metadata": {},
   "outputs": [],
   "source": []
  },
  {
   "cell_type": "code",
   "execution_count": null,
   "metadata": {},
   "outputs": [],
   "source": []
  }
 ],
 "metadata": {
  "kernelspec": {
   "display_name": "Python 3",
   "language": "python",
   "name": "python3"
  },
  "language_info": {
   "codemirror_mode": {
    "name": "ipython",
    "version": 3
   },
   "file_extension": ".py",
   "mimetype": "text/x-python",
   "name": "python",
   "nbconvert_exporter": "python",
   "pygments_lexer": "ipython3",
   "version": "3.6.5"
  }
 },
 "nbformat": 4,
 "nbformat_minor": 2
}
