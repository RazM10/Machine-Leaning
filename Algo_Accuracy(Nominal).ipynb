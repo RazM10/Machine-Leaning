{
 "cells": [
  {
   "cell_type": "code",
   "execution_count": 1,
   "metadata": {},
   "outputs": [],
   "source": [
    "import pandas as pd\n",
    "import numpy as np"
   ]
  },
  {
   "cell_type": "code",
   "execution_count": 2,
   "metadata": {},
   "outputs": [],
   "source": [
    "def processAge(x):\n",
    "    if x >= 0 and x < 2:\n",
    "        return 0\n",
    "    elif x >= 2 and x <= 12:\n",
    "        return 1\n",
    "    elif x >= 13 and x <= 59:\n",
    "        return 2\n",
    "    elif x >= 60:\n",
    "        return 3"
   ]
  },
  {
   "cell_type": "code",
   "execution_count": 5,
   "metadata": {},
   "outputs": [],
   "source": [
    "df = pd.read_csv('titanic.csv')\n",
    "df = df.drop(df.columns[[10]],axis = 1)\n",
    "df = df.dropna(axis=0)\n",
    "df = df.reset_index(drop = True)\n",
    "df_1=df.copy()\n",
    "df_1['AgeCode'] = df['Age'].map(processAge)\n",
    "\n",
    "actual = df_1['AgeCode']\n",
    "update = df_1.sample(int(0.1 * len(df))).index\n",
    "df_1.at[update, 'AgeCode'] = np.nan # changable\n",
    "\n",
    "myFilter_train=df_1.AgeCode.notnull()\n",
    "\n",
    "y_train=actual[myFilter_train]\n",
    "y_test=actual[update]\n",
    "\n",
    "x_pclass=df['Pclass']\n",
    "x_pclass_1=x_pclass[myFilter_train]\n",
    "x_fare=df['Fare']\n",
    "x_fare_1=x_fare[myFilter_train]\n",
    "X_train=pd.DataFrame({'Pclass':x_pclass_1.values, 'Fare':x_fare_1.values})\n",
    "\n",
    "x_pclass=df['Pclass']\n",
    "x_pclass_1=x_pclass[update]\n",
    "x_fare=df['Fare']\n",
    "x_fare_1=x_fare[update]\n",
    "X_test=pd.DataFrame({'Pclass':x_pclass_1.values, 'Fare':x_fare_1.values})"
   ]
  },
  {
   "cell_type": "code",
   "execution_count": 12,
   "metadata": {},
   "outputs": [],
   "source": [
    "import MICE\n",
    "import iMICE"
   ]
  },
  {
   "cell_type": "code",
   "execution_count": 13,
   "metadata": {},
   "outputs": [],
   "source": [
    "df_2 = df_1[['AgeCode', 'Pclass', 'Fare']].copy()"
   ]
  },
  {
   "cell_type": "code",
   "execution_count": 15,
   "metadata": {},
   "outputs": [],
   "source": [
    "mice_result = MICE.MICE(verbose=False, init_fill_method=\"median\", impute_type=\"pmm\", n_imputations=7).complete(np.matrix(df_2))"
   ]
  },
  {
   "cell_type": "code",
   "execution_count": 18,
   "metadata": {},
   "outputs": [],
   "source": [
    "df_3 = pd.DataFrame(mice_result, columns = ['AgeCode', 'Pclass', 'Fare'])\n",
    "predict = df_3['AgeCode'].map(lambda x: int(x))"
   ]
  },
  {
   "cell_type": "code",
   "execution_count": 22,
   "metadata": {},
   "outputs": [
    {
     "name": "stdout",
     "output_type": "stream",
     "text": [
      "0.704225352112676\n",
      "[[ 0  0  0  0]\n",
      " [ 1  0  4  0]\n",
      " [ 7  6 50  1]\n",
      " [ 0  0  2  0]]\n"
     ]
    }
   ],
   "source": [
    "from sklearn.metrics import accuracy_score\n",
    "from sklearn.metrics import classification_report, confusion_matrix  \n",
    "print(accuracy_score(actual[update], predict[update]))\n",
    "print(confusion_matrix(actual[update], predict[update])) "
   ]
  },
  {
   "cell_type": "markdown",
   "metadata": {},
   "source": [
    "# iMICE"
   ]
  },
  {
   "cell_type": "code",
   "execution_count": 27,
   "metadata": {},
   "outputs": [],
   "source": [
    "imice_result = iMICE.iMICE(verbose=False, init_fill_method=\"median\", impute_type=\"pmm\", n_imputations=7).complete(np.matrix(df_2))"
   ]
  },
  {
   "cell_type": "code",
   "execution_count": 28,
   "metadata": {},
   "outputs": [],
   "source": [
    "df_3i = pd.DataFrame(imice_result, columns = ['AgeCode', 'Pclass', 'Fare'])\n",
    "predicti = df_3i['AgeCode'].map(lambda x: int(x))"
   ]
  },
  {
   "cell_type": "code",
   "execution_count": 29,
   "metadata": {},
   "outputs": [
    {
     "name": "stdout",
     "output_type": "stream",
     "text": [
      "0.9014084507042254\n",
      "[[ 0  5  0]\n",
      " [ 0 64  0]\n",
      " [ 0  2  0]]\n"
     ]
    }
   ],
   "source": [
    "from sklearn.metrics import accuracy_score\n",
    "from sklearn.metrics import classification_report, confusion_matrix  \n",
    "print(accuracy_score(actual[update], predicti[update]))\n",
    "print(confusion_matrix(actual[update], predicti[update])) "
   ]
  },
  {
   "cell_type": "markdown",
   "metadata": {},
   "source": [
    "# KNN"
   ]
  },
  {
   "cell_type": "code",
   "execution_count": 30,
   "metadata": {},
   "outputs": [],
   "source": [
    "X_test=X_test.iloc[:,:].values\n",
    "X_train=X_train.iloc[:,:].values\n",
    "y_train=np.array(y_train)\n",
    "y_test=np.array(y_test)"
   ]
  },
  {
   "cell_type": "code",
   "execution_count": 31,
   "metadata": {},
   "outputs": [],
   "source": [
    "from sklearn.neighbors import KNeighborsClassifier\n",
    "clf = KNeighborsClassifier(3, weights='distance')\n",
    "trained_model = clf.fit(X_train, y_train)\n",
    "y_pred = trained_model.predict(X_test)"
   ]
  },
  {
   "cell_type": "code",
   "execution_count": 32,
   "metadata": {},
   "outputs": [
    {
     "name": "stdout",
     "output_type": "stream",
     "text": [
      "0.7323943661971831\n",
      "[[ 0  0  0  0]\n",
      " [ 1  0  4  0]\n",
      " [ 3  6 52  3]\n",
      " [ 0  0  2  0]]\n"
     ]
    }
   ],
   "source": [
    "from sklearn.metrics import classification_report, confusion_matrix, accuracy_score\n",
    "print(accuracy_score(y_test, y_pred))\n",
    "print(confusion_matrix(y_test, y_pred))"
   ]
  },
  {
   "cell_type": "markdown",
   "metadata": {},
   "source": [
    "# Random Forest"
   ]
  },
  {
   "cell_type": "code",
   "execution_count": 33,
   "metadata": {},
   "outputs": [],
   "source": [
    "from sklearn.ensemble import RandomForestRegressor,RandomForestClassifier\n",
    "\n",
    "regressor = RandomForestClassifier(n_estimators=20, random_state=0)  \n",
    "regressor.fit(X_train, y_train)  \n",
    "y_pred = regressor.predict(X_test)"
   ]
  },
  {
   "cell_type": "code",
   "execution_count": 34,
   "metadata": {},
   "outputs": [
    {
     "name": "stdout",
     "output_type": "stream",
     "text": [
      "0.7183098591549296\n",
      "[[ 0  0  0  0]\n",
      " [ 1  0  4  0]\n",
      " [ 1  8 51  4]\n",
      " [ 0  0  2  0]]\n"
     ]
    }
   ],
   "source": [
    "from sklearn.metrics import classification_report, confusion_matrix, accuracy_score\n",
    "print(accuracy_score(y_test, y_pred))\n",
    "print(confusion_matrix(y_test, y_pred))"
   ]
  },
  {
   "cell_type": "code",
   "execution_count": null,
   "metadata": {},
   "outputs": [],
   "source": []
  }
 ],
 "metadata": {
  "kernelspec": {
   "display_name": "Python 3",
   "language": "python",
   "name": "python3"
  },
  "language_info": {
   "codemirror_mode": {
    "name": "ipython",
    "version": 3
   },
   "file_extension": ".py",
   "mimetype": "text/x-python",
   "name": "python",
   "nbconvert_exporter": "python",
   "pygments_lexer": "ipython3",
   "version": "3.6.5"
  }
 },
 "nbformat": 4,
 "nbformat_minor": 2
}
