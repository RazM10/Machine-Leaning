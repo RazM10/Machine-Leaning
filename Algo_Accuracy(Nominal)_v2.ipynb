{
 "cells": [
  {
   "cell_type": "code",
   "execution_count": 6,
   "metadata": {},
   "outputs": [
    {
     "name": "stdout",
     "output_type": "stream",
     "text": [
      "(712, 3)\n",
      "0.8461538461538461\n",
      "[[  0   0   2   0]\n",
      " [  0   0  10   0]\n",
      " [  0   3 121   0]\n",
      " [  0   1   6   0]]\n"
     ]
    }
   ],
   "source": [
    "import pandas as pd\n",
    "import numpy as np\n",
    "import MICE\n",
    "import iMICE\n",
    "\n",
    "#convert nominal\n",
    "def processAge(x):\n",
    "    if x >= 0 and x < 2:\n",
    "        return 0\n",
    "    elif x >= 2 and x <= 12:\n",
    "        return 1\n",
    "    elif x >= 13 and x <= 59:\n",
    "        return 2\n",
    "    elif x >= 60:\n",
    "        return 3\n",
    "\n",
    "df = pd.read_csv('titanic.csv')\n",
    "df = df.drop(df.columns[[10]],axis = 1)\n",
    "df = df.dropna(axis=0)\n",
    "df = df.reset_index(drop = True)\n",
    "df_1=df.copy()\n",
    "df_1['AgeCode'] = df['Age'].map(processAge)\n",
    "\n",
    "X = df_1.iloc[:, [2,9]].values  \n",
    "y = df_1.iloc[:, 11].values\n",
    "\n",
    "from sklearn.model_selection import train_test_split  \n",
    "X_train, X_test, y_train, y_test = train_test_split(X, y, test_size=0.20, random_state = 0)\n",
    "\n",
    "#actual\n",
    "actual=np.concatenate((y_train,y_test),axis=0)\n",
    "r1=len(y_train)\n",
    "\n",
    "#y_test\n",
    "df_2n = pd.DataFrame({'Age':y_test[:]})\n",
    "df_2n.at[:,'Age']=np.nan\n",
    "y_test_n=df_2n.iloc[:,0].values\n",
    "\n",
    "y_train_1=np.concatenate((y_train,y_test_n),axis=0)\n",
    "X_train_1=np.concatenate((X_train,X_test),axis=0)\n",
    "\n",
    "df_2 = pd.DataFrame({'Age':y_train_1[:],'Pclass':X_train_1[:,0],'Fare':X_train_1[:,1]})\n",
    "\n",
    "mice_result = MICE.MICE(verbose=False, init_fill_method=\"median\", impute_type=\"pmm\", n_imputations=7).complete(np.matrix(df_2))\n",
    "\n",
    "print(mice_result.shape)\n",
    "df_3 = pd.DataFrame(mice_result, columns = ['Age', 'Pclass', 'Fare'])\n",
    "predict = df_3['Age']\n",
    "\n",
    "predict = np.array(predict)\n",
    "\n",
    "from sklearn.metrics import accuracy_score\n",
    "from sklearn.metrics import classification_report, confusion_matrix  \n",
    "print(accuracy_score(y_test, predict[r1:]))\n",
    "print(confusion_matrix(actual[r1:], predict[r1:]))"
   ]
  },
  {
   "cell_type": "markdown",
   "metadata": {},
   "source": [
    "# iMICE"
   ]
  },
  {
   "cell_type": "code",
   "execution_count": 9,
   "metadata": {},
   "outputs": [
    {
     "name": "stdout",
     "output_type": "stream",
     "text": [
      "0.8671328671328671\n",
      "[[  0   0   2   0]\n",
      " [  0   0  10   0]\n",
      " [  0   0 124   0]\n",
      " [  0   0   7   0]]\n"
     ]
    }
   ],
   "source": [
    "imice_result = iMICE.iMICE(verbose=False, init_fill_method=\"median\", impute_type=\"pmm\", n_imputations=7).complete(np.matrix(df_2))\n",
    "\n",
    "df_3i = pd.DataFrame(imice_result, columns = ['Age Binary', 'Pclass', 'Fare'])\n",
    "predicti = df_3i['Age Binary'].map(lambda x: int(x))\n",
    "\n",
    "from sklearn.metrics import accuracy_score\n",
    "from sklearn.metrics import classification_report, confusion_matrix  \n",
    "print(accuracy_score(y_test, predicti[r1:]))\n",
    "print(confusion_matrix(actual[r1:], predicti[r1:]))"
   ]
  },
  {
   "cell_type": "markdown",
   "metadata": {},
   "source": [
    "# KNN"
   ]
  },
  {
   "cell_type": "code",
   "execution_count": 12,
   "metadata": {},
   "outputs": [
    {
     "name": "stdout",
     "output_type": "stream",
     "text": [
      "0.8531468531468531\n",
      "[[  1   0   1   0]\n",
      " [  0   4   6   0]\n",
      " [  0   7 117   0]\n",
      " [  0   0   7   0]]\n"
     ]
    }
   ],
   "source": [
    "from sklearn.neighbors import KNeighborsClassifier\n",
    "clf = KNeighborsClassifier(3, weights='distance')\n",
    "trained_model = clf.fit(X_train, y_train)\n",
    "y_pred = trained_model.predict(X_test)\n",
    "\n",
    "from sklearn.metrics import classification_report, confusion_matrix, accuracy_score\n",
    "print(accuracy_score(y_test, y_pred))\n",
    "print(confusion_matrix(y_test, y_pred))"
   ]
  },
  {
   "cell_type": "markdown",
   "metadata": {},
   "source": [
    "# Random Forest"
   ]
  },
  {
   "cell_type": "code",
   "execution_count": 13,
   "metadata": {},
   "outputs": [
    {
     "name": "stdout",
     "output_type": "stream",
     "text": [
      "0.8461538461538461\n",
      "[[  0   1   1   0]\n",
      " [  0   2   8   0]\n",
      " [  0   5 119   0]\n",
      " [  0   0   7   0]]\n"
     ]
    }
   ],
   "source": [
    "from sklearn.ensemble import RandomForestRegressor,RandomForestClassifier\n",
    "\n",
    "regressor = RandomForestClassifier(n_estimators=20, random_state=0)  \n",
    "regressor.fit(X_train, y_train)  \n",
    "y_pred = regressor.predict(X_test)\n",
    "\n",
    "from sklearn.metrics import classification_report, confusion_matrix, accuracy_score\n",
    "print(accuracy_score(y_test, y_pred))\n",
    "print(confusion_matrix(y_test, y_pred))"
   ]
  },
  {
   "cell_type": "code",
   "execution_count": null,
   "metadata": {},
   "outputs": [],
   "source": []
  }
 ],
 "metadata": {
  "kernelspec": {
   "display_name": "Python 3",
   "language": "python",
   "name": "python3"
  },
  "language_info": {
   "codemirror_mode": {
    "name": "ipython",
    "version": 3
   },
   "file_extension": ".py",
   "mimetype": "text/x-python",
   "name": "python",
   "nbconvert_exporter": "python",
   "pygments_lexer": "ipython3",
   "version": "3.6.5"
  }
 },
 "nbformat": 4,
 "nbformat_minor": 2
}
