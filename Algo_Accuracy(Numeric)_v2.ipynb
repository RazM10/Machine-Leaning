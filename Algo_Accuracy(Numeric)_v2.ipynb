{
 "cells": [
  {
   "cell_type": "code",
   "execution_count": 9,
   "metadata": {},
   "outputs": [
    {
     "name": "stdout",
     "output_type": "stream",
     "text": [
      "Mean Absolute Error: 11.027077274431475\n",
      "Mean Squared Error: 207.38184144638873\n",
      "Root Mean Squared Error: 14.400758363585883\n",
      "Mean Absolute Error: 10.73115398765249\n",
      "Mean Squared Error: 196.69710260119376\n",
      "Root Mean Squared Error: 14.024874423722794\n"
     ]
    }
   ],
   "source": [
    "import pandas as pd\n",
    "import numpy as np\n",
    "\n",
    "df_ds = pd.read_csv('titanic.csv')\n",
    "df=df_ds.copy()\n",
    "df = df.drop(df.columns[[10]],axis = 1)\n",
    "df = df.dropna(axis=0)\n",
    "\n",
    "X = df.iloc[:, [2,9]].values  \n",
    "y = df.iloc[:, 5].values\n",
    "\n",
    "from sklearn.model_selection import train_test_split  \n",
    "X_train, X_test, y_train, y_test = train_test_split(X, y, test_size=0.20, random_state = 0)\n",
    "\n",
    "\"\"\"dataset = pd.read_csv('Salary_Data.csv')\n",
    "X = dataset.iloc[:, :-1].values\n",
    "y = dataset.iloc[:, 1].values\"\"\"\n",
    "\n",
    "# Splitting the dataset into the Training set and Test set\n",
    "#from sklearn.model_selection import train_test_split \n",
    "#from sklearn.cross_validation import train_test_split\n",
    "#X_train, X_test, y_train, y_test = train_test_split(X, y, test_size = 1/3, random_state = 0)\n",
    "\n",
    "from sklearn.ensemble import RandomForestRegressor,RandomForestClassifier\n",
    "regressor = RandomForestRegressor(n_estimators=20, random_state=0)  \n",
    "regressor.fit(X_train, y_train)  \n",
    "y_pred = regressor.predict(X_test)\n",
    "\n",
    "from sklearn.linear_model import LinearRegression\n",
    "regressor_1 = LinearRegression()\n",
    "regressor_1.fit(X_train, y_train)\n",
    "y_pred_1 = regressor_1.predict(X_test)\n",
    "\n",
    "from sklearn import metrics\n",
    "\n",
    "print('Mean Absolute Error:', metrics.mean_absolute_error(y_test, y_pred))  \n",
    "print('Mean Squared Error:', metrics.mean_squared_error(y_test, y_pred))  \n",
    "print('Root Mean Squared Error:', np.sqrt(metrics.mean_squared_error(y_test, y_pred))) \n",
    "\n",
    "from sklearn import metrics\n",
    "\n",
    "print('Mean Absolute Error:', metrics.mean_absolute_error(y_test, y_pred_1))  \n",
    "print('Mean Squared Error:', metrics.mean_squared_error(y_test, y_pred_1))  \n",
    "print('Root Mean Squared Error:', np.sqrt(metrics.mean_squared_error(y_test, y_pred_1))) "
   ]
  },
  {
   "cell_type": "code",
   "execution_count": 11,
   "metadata": {},
   "outputs": [
    {
     "data": {
      "text/plain": [
       "143"
      ]
     },
     "execution_count": 11,
     "metadata": {},
     "output_type": "execute_result"
    }
   ],
   "source": [
    "len(y_test)"
   ]
  },
  {
   "cell_type": "code",
   "execution_count": 83,
   "metadata": {},
   "outputs": [
    {
     "name": "stdout",
     "output_type": "stream",
     "text": [
      "142\n"
     ]
    }
   ],
   "source": [
    "update = df.sample(int(0.20 * len(df))).index  #0.1 = 10%\n",
    "print(len(update))"
   ]
  },
  {
   "cell_type": "markdown",
   "metadata": {},
   "source": [
    "# Split Dataset For iMICE & MICE"
   ]
  },
  {
   "cell_type": "code",
   "execution_count": 10,
   "metadata": {},
   "outputs": [
    {
     "name": "stdout",
     "output_type": "stream",
     "text": [
      "(712, 3)\n",
      "Mean Absolute Error: 15.903286713286715\n",
      "Mean Squared Error: 389.6250118881119\n",
      "Root Mean Squared Error: 19.738921244285663\n"
     ]
    }
   ],
   "source": [
    "import pandas as pd\n",
    "import numpy as np\n",
    "import MICE\n",
    "\n",
    "df_ds = pd.read_csv('titanic.csv')\n",
    "df=df_ds.copy()\n",
    "df = df.drop(df.columns[[10]],axis = 1)\n",
    "df = df.dropna(axis=0)\n",
    "\n",
    "X = df.iloc[:, [2,9]].values  \n",
    "y = df.iloc[:, 5].values\n",
    "\n",
    "#actual = df['Age'].copy()\n",
    "\n",
    "from sklearn.model_selection import train_test_split  \n",
    "X_train, X_test, y_train, y_test = train_test_split(X, y, test_size=0.20, random_state = 0)\n",
    "\n",
    "#actual\n",
    "actual=np.concatenate((y_train,y_test),axis=0)\n",
    "r1=len(y_train)\n",
    "\n",
    "r=len(y_test)\n",
    "y_test_n=y_test.copy()\n",
    "y_test_n[0:r]=np.nan\n",
    "\n",
    "y_train_1=np.concatenate((y_train,y_test_n),axis=0)\n",
    "X_train_1=np.concatenate((X_train,X_test),axis=0)\n",
    "\n",
    "df_2 = pd.DataFrame({'Age':y_train_1[:],'Pclass':X_train_1[:,0],'Fare':X_train_1[:,1]})\n",
    "\n",
    "mice_result = MICE.MICE(verbose=False, init_fill_method=\"median\", impute_type=\"pmm\", n_imputations=7).complete(np.matrix(df_2))\n",
    "\n",
    "print(mice_result.shape)\n",
    "df_3 = pd.DataFrame(mice_result, columns = ['Age', 'Pclass', 'Fare'])\n",
    "predict = df_3['Age']\n",
    "\n",
    "predict = np.array(predict)\n",
    "\n",
    "from sklearn import metrics\n",
    "\n",
    "print('Mean Absolute Error:', metrics.mean_absolute_error(actual[r1:], predict[r1:]))  \n",
    "print('Mean Squared Error:', metrics.mean_squared_error(actual[r1:], predict[r1:]))  \n",
    "print('Root Mean Squared Error:', np.sqrt(metrics.mean_squared_error(y_test,predict[r1:]))) "
   ]
  },
  {
   "cell_type": "markdown",
   "metadata": {
    "scrolled": true
   },
   "source": [
    "# iMICE"
   ]
  },
  {
   "cell_type": "code",
   "execution_count": 14,
   "metadata": {
    "scrolled": true
   },
   "outputs": [
    {
     "name": "stdout",
     "output_type": "stream",
     "text": [
      "Mean Absolute Error: 13.537272727272727\n",
      "Mean Squared Error: 279.8225097902098\n",
      "Root Mean Squared Error: 16.72789615553043\n"
     ]
    }
   ],
   "source": [
    "import iMICE\n",
    "\n",
    "imice_result = iMICE.iMICE(verbose=False, init_fill_method=\"median\", impute_type=\"pmm\", n_imputations=7).complete(np.matrix(df_2))\n",
    "\n",
    "df_3i = pd.DataFrame(imice_result, columns = ['Age', 'Pclass', 'Fare'])\n",
    "predicti = df_3i['Age']\n",
    "\n",
    "predicti = np.array(predicti)\n",
    "\n",
    "from sklearn import metrics\n",
    "\n",
    "print('Mean Absolute Error:', metrics.mean_absolute_error(actual[r1:], predicti[r1:]))  \n",
    "print('Mean Squared Error:', metrics.mean_squared_error(actual[r1:], predicti[r1:]))  \n",
    "print('Root Mean Squared Error:', np.sqrt(metrics.mean_squared_error(y_test, predicti[r1:]))) "
   ]
  },
  {
   "cell_type": "markdown",
   "metadata": {},
   "source": [
    "# Random Forest"
   ]
  },
  {
   "cell_type": "code",
   "execution_count": 15,
   "metadata": {},
   "outputs": [
    {
     "name": "stdout",
     "output_type": "stream",
     "text": [
      "Mean Absolute Error: 11.027077274431475\n",
      "Mean Squared Error: 207.38184144638873\n",
      "Root Mean Squared Error: 14.400758363585883\n"
     ]
    }
   ],
   "source": [
    "from sklearn.ensemble import RandomForestRegressor,RandomForestClassifier\n",
    "regressor = RandomForestRegressor(n_estimators=20, random_state=0)  \n",
    "regressor.fit(X_train, y_train)  \n",
    "y_pred = regressor.predict(X_test) \n",
    "\n",
    "from sklearn import metrics\n",
    "\n",
    "print('Mean Absolute Error:', metrics.mean_absolute_error(y_test, y_pred))  \n",
    "print('Mean Squared Error:', metrics.mean_squared_error(y_test, y_pred))  \n",
    "print('Root Mean Squared Error:', np.sqrt(metrics.mean_squared_error(y_test, y_pred)))"
   ]
  },
  {
   "cell_type": "markdown",
   "metadata": {},
   "source": [
    "# SVR"
   ]
  },
  {
   "cell_type": "code",
   "execution_count": 16,
   "metadata": {},
   "outputs": [
    {
     "name": "stdout",
     "output_type": "stream",
     "text": [
      "Mean Absolute Error: 11.831944564795487\n",
      "Mean Squared Error: 240.74662121166568\n",
      "Root Mean Squared Error: 15.516011768868497\n"
     ]
    }
   ],
   "source": [
    "from sklearn.svm import SVR\n",
    "svr = SVR(gamma=0.001, C=1.0, epsilon=0.2)\n",
    "svr.fit(X_train, y_train)\n",
    "y_pred=svr.predict(X_test)\n",
    "\n",
    "from sklearn import metrics\n",
    "\n",
    "print('Mean Absolute Error:', metrics.mean_absolute_error(y_test, y_pred))  \n",
    "print('Mean Squared Error:', metrics.mean_squared_error(y_test, y_pred))  \n",
    "print('Root Mean Squared Error:', np.sqrt(metrics.mean_squared_error(y_test, y_pred)))"
   ]
  },
  {
   "cell_type": "code",
   "execution_count": null,
   "metadata": {},
   "outputs": [],
   "source": []
  },
  {
   "cell_type": "code",
   "execution_count": null,
   "metadata": {},
   "outputs": [],
   "source": []
  },
  {
   "cell_type": "code",
   "execution_count": null,
   "metadata": {},
   "outputs": [],
   "source": []
  },
  {
   "cell_type": "code",
   "execution_count": null,
   "metadata": {},
   "outputs": [],
   "source": []
  },
  {
   "cell_type": "code",
   "execution_count": null,
   "metadata": {},
   "outputs": [],
   "source": []
  },
  {
   "cell_type": "code",
   "execution_count": null,
   "metadata": {},
   "outputs": [],
   "source": []
  }
 ],
 "metadata": {
  "kernelspec": {
   "display_name": "Python 3",
   "language": "python",
   "name": "python3"
  },
  "language_info": {
   "codemirror_mode": {
    "name": "ipython",
    "version": 3
   },
   "file_extension": ".py",
   "mimetype": "text/x-python",
   "name": "python",
   "nbconvert_exporter": "python",
   "pygments_lexer": "ipython3",
   "version": "3.6.5"
  }
 },
 "nbformat": 4,
 "nbformat_minor": 2
}
