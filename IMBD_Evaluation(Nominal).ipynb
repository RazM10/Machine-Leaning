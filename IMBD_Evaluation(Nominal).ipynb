{
 "cells": [
  {
   "cell_type": "code",
   "execution_count": 1,
   "metadata": {},
   "outputs": [],
   "source": [
    "import pandas as pd\n",
    "import numpy as np\n",
    "import iMICE\n",
    "import MICE\n",
    "\n",
    "df = pd.read_csv('IMDB-Movie-Data.csv')\n",
    "df = df.drop(df.columns[[2,3,4,5,6,7,10]],axis = 1)\n",
    "df = df.dropna(axis=0)\n",
    "df = df.reset_index(drop = True)\n",
    "\n",
    "def processAge(x):\n",
    "    if x >= 0 and x < 50:\n",
    "        return 0\n",
    "    elif x >= 50 and x <= 69:\n",
    "        return 1\n",
    "    elif x >= 70 and x <= 89:\n",
    "        return 2\n",
    "    elif x >= 90:\n",
    "        return 3\n",
    "\n",
    "df_1=df.copy()\n",
    "df_1['MetascoreCode'] = df['Metascore'].map(processAge)\n",
    "\n",
    "X = df_1.iloc[:, [2,3]].values  \n",
    "y = df_1.iloc[:, 5].values\n",
    "\n",
    "from sklearn.model_selection import train_test_split  \n",
    "X_train, X_test, y_train, y_test = train_test_split(X, y, test_size=0.20, random_state = 0)\n",
    "\n",
    "#actual\n",
    "actual=np.concatenate((y_train,y_test),axis=0)\n",
    "r1=len(y_train)\n",
    "\n",
    "#y_test\n",
    "df_2n = pd.DataFrame({'Metascore':y_test[:]})\n",
    "df_2n.at[:,'Metascore']=np.nan\n",
    "y_test_n=df_2n.iloc[:,0].values\n",
    "\n",
    "y_train_1=np.concatenate((y_train,y_test_n),axis=0)\n",
    "X_train_1=np.concatenate((X_train,X_test),axis=0)\n",
    "\n",
    "df_2 = pd.DataFrame({'Metascore':y_train_1[:],'Rating':X_train_1[:,0],'Votes':X_train_1[:,1]})\n",
    "\n"
   ]
  },
  {
   "cell_type": "markdown",
   "metadata": {},
   "source": [
    "# KNN"
   ]
  },
  {
   "cell_type": "code",
   "execution_count": 2,
   "metadata": {},
   "outputs": [
    {
     "name": "stdout",
     "output_type": "stream",
     "text": [
      "0.39893617021276595\n",
      "[[27 26 13  0]\n",
      " [16 32 15  2]\n",
      " [16 18 16  1]\n",
      " [ 0  4  2  0]]\n"
     ]
    }
   ],
   "source": [
    "from sklearn.neighbors import KNeighborsClassifier\n",
    "clf = KNeighborsClassifier(3, weights='distance')\n",
    "trained_model = clf.fit(X_train, y_train)\n",
    "y_pred = trained_model.predict(X_test)\n",
    "\n",
    "from sklearn.metrics import classification_report, confusion_matrix, accuracy_score\n",
    "print(accuracy_score(y_test, y_pred))\n",
    "print(confusion_matrix(y_test, y_pred))"
   ]
  },
  {
   "cell_type": "markdown",
   "metadata": {},
   "source": [
    "# Random Forest"
   ]
  },
  {
   "cell_type": "code",
   "execution_count": 3,
   "metadata": {},
   "outputs": [
    {
     "name": "stdout",
     "output_type": "stream",
     "text": [
      "0.5\n",
      "[[35 28  3  0]\n",
      " [14 34 17  0]\n",
      " [ 6 18 25  2]\n",
      " [ 2  2  2  0]]\n"
     ]
    }
   ],
   "source": [
    "from sklearn.ensemble import RandomForestRegressor,RandomForestClassifier\n",
    "\n",
    "regressor = RandomForestClassifier(n_estimators=20, random_state=0)  \n",
    "regressor.fit(X_train, y_train)  \n",
    "y_pred = regressor.predict(X_test)\n",
    "\n",
    "from sklearn.metrics import classification_report, confusion_matrix, accuracy_score\n",
    "print(accuracy_score(y_test, y_pred))\n",
    "print(confusion_matrix(y_test, y_pred))"
   ]
  },
  {
   "cell_type": "markdown",
   "metadata": {},
   "source": [
    "# iMICE"
   ]
  },
  {
   "cell_type": "code",
   "execution_count": 17,
   "metadata": {},
   "outputs": [
    {
     "name": "stdout",
     "output_type": "stream",
     "text": [
      "0.4095744680851064\n",
      "[[19 44  3  0]\n",
      " [10 44 11  0]\n",
      " [ 8 29 14  0]\n",
      " [ 0  2  4  0]]\n"
     ]
    }
   ],
   "source": [
    "imice_result = iMICE.iMICE(verbose=False, init_fill_method=\"median\", impute_type=\"pmm\", n_imputations=7).complete(np.matrix(df_2))\n",
    "\n",
    "df_3i = pd.DataFrame(imice_result, columns = ['Metascore', 'Rating', 'Votes'])\n",
    "predicti = df_3i['Metascore'].map(lambda x: int(x))\n",
    "\n",
    "from sklearn.metrics import accuracy_score,f1_score, precision_score, recall_score\n",
    "from sklearn.metrics import classification_report, confusion_matrix  \n",
    "print(accuracy_score(y_test, predicti[r1:]))\n",
    "print(confusion_matrix(actual[r1:], predicti[r1:]))"
   ]
  },
  {
   "cell_type": "markdown",
   "metadata": {},
   "source": [
    "# MICE"
   ]
  },
  {
   "cell_type": "code",
   "execution_count": 21,
   "metadata": {},
   "outputs": [
    {
     "name": "stdout",
     "output_type": "stream",
     "text": [
      "(936, 3)\n",
      "0.3723404255319149\n",
      "[[29 23 13  1]\n",
      " [16 30 18  1]\n",
      " [19 17 11  4]\n",
      " [ 0  2  4  0]]\n"
     ]
    }
   ],
   "source": [
    "mice_result = MICE.MICE(verbose=False, init_fill_method=\"median\", impute_type=\"pmm\", n_imputations=7).complete(np.matrix(df_2))\n",
    "\n",
    "print(mice_result.shape)\n",
    "df_3 = pd.DataFrame(mice_result, columns = ['Age', 'Pclass', 'Fare'])\n",
    "predict = df_3['Age']\n",
    "\n",
    "predict = np.array(predict)\n",
    "\n",
    "from sklearn.metrics import accuracy_score,f1_score, precision_score, recall_score\n",
    "from sklearn.metrics import classification_report, confusion_matrix  \n",
    "print(accuracy_score(y_test, predict[r1:]))\n",
    "#print(classification_report(y_test, predict[r1:]))\n",
    "print(confusion_matrix(actual[r1:], predict[r1:])) "
   ]
  },
  {
   "cell_type": "code",
   "execution_count": null,
   "metadata": {},
   "outputs": [],
   "source": []
  }
 ],
 "metadata": {
  "kernelspec": {
   "display_name": "Python 3",
   "language": "python",
   "name": "python3"
  },
  "language_info": {
   "codemirror_mode": {
    "name": "ipython",
    "version": 3
   },
   "file_extension": ".py",
   "mimetype": "text/x-python",
   "name": "python",
   "nbconvert_exporter": "python",
   "pygments_lexer": "ipython3",
   "version": "3.6.5"
  }
 },
 "nbformat": 4,
 "nbformat_minor": 2
}
