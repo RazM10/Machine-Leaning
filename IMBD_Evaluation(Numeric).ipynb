{
 "cells": [
  {
   "cell_type": "markdown",
   "metadata": {},
   "source": [
    "# Numeric"
   ]
  },
  {
   "cell_type": "code",
   "execution_count": 9,
   "metadata": {},
   "outputs": [],
   "source": [
    "import pandas as pd\n",
    "import numpy as np\n",
    "\n",
    "df = pd.read_csv('IMDB-Movie-Data.csv')\n",
    "df = df.drop(df.columns[[2,3,4,5,6,7,10]],axis = 1)\n",
    "df = df.dropna(axis=0)\n",
    "\n",
    "import MICE\n",
    "\n",
    "X = df.iloc[:, [3,4]].values  \n",
    "y = df.iloc[:, 2].values\n",
    "\n",
    "from sklearn.model_selection import train_test_split  \n",
    "X_train, X_test, y_train, y_test = train_test_split(X, y, test_size=0.20, random_state = 0)\n",
    "\n",
    "#actual\n",
    "actual=np.concatenate((y_train,y_test),axis=0)\n",
    "r1=len(y_train)\n",
    "\n",
    "r=len(y_test)\n",
    "y_test_n=y_test.copy()\n",
    "y_test_n[0:r]=np.nan\n",
    "\n",
    "y_train_1=np.concatenate((y_train,y_test_n),axis=0)\n",
    "X_train_1=np.concatenate((X_train,X_test),axis=0)\n",
    "\n",
    "df_2 = pd.DataFrame({'Rating':y_train_1[:],'Votes':X_train_1[:,0],'Metascore':X_train_1[:,1]})\n",
    "\n"
   ]
  },
  {
   "cell_type": "markdown",
   "metadata": {},
   "source": [
    "# MICE"
   ]
  },
  {
   "cell_type": "code",
   "execution_count": 10,
   "metadata": {},
   "outputs": [
    {
     "name": "stdout",
     "output_type": "stream",
     "text": [
      "(936, 3)\n",
      "Mean Absolute Error: 0.95\n",
      "Mean Squared Error: 1.5419148936170213\n",
      "Root Mean Squared Error: 1.2417386575350795\n"
     ]
    }
   ],
   "source": [
    "mice_result = MICE.MICE(verbose=False, init_fill_method=\"median\", impute_type=\"pmm\", n_imputations=7).complete(np.matrix(df_2))\n",
    "\n",
    "print(mice_result.shape)\n",
    "df_3 = pd.DataFrame(mice_result, columns = ['Rating', 'Votes', 'Metascore'])\n",
    "predict = df_3['Rating']\n",
    "\n",
    "predict = np.array(predict)\n",
    "\n",
    "from sklearn import metrics\n",
    "\n",
    "print('Mean Absolute Error:', metrics.mean_absolute_error(actual[r1:], predict[r1:]))  \n",
    "print('Mean Squared Error:', metrics.mean_squared_error(actual[r1:], predict[r1:]))  \n",
    "print('Root Mean Squared Error:', np.sqrt(metrics.mean_squared_error(y_test,predict[r1:]))) "
   ]
  },
  {
   "cell_type": "markdown",
   "metadata": {},
   "source": [
    "# iMICE"
   ]
  },
  {
   "cell_type": "code",
   "execution_count": 11,
   "metadata": {},
   "outputs": [
    {
     "name": "stdout",
     "output_type": "stream",
     "text": [
      "Mean Absolute Error: 0.7335106382978722\n",
      "Mean Squared Error: 0.881968085106383\n",
      "Root Mean Squared Error: 0.9391315589981964\n"
     ]
    }
   ],
   "source": [
    "import iMICE\n",
    "\n",
    "imice_result = iMICE.iMICE(verbose=False, init_fill_method=\"median\", impute_type=\"pmm\", n_imputations=7).complete(np.matrix(df_2))\n",
    "\n",
    "df_3i = pd.DataFrame(imice_result, columns = ['Age', 'Pclass', 'Fare'])\n",
    "predicti = df_3i['Age']\n",
    "\n",
    "predicti = np.array(predicti)\n",
    "\n",
    "from sklearn import metrics\n",
    "\n",
    "print('Mean Absolute Error:', metrics.mean_absolute_error(actual[r1:], predicti[r1:]))  \n",
    "print('Mean Squared Error:', metrics.mean_squared_error(actual[r1:], predicti[r1:]))  \n",
    "print('Root Mean Squared Error:', np.sqrt(metrics.mean_squared_error(y_test, predicti[r1:]))) "
   ]
  },
  {
   "cell_type": "markdown",
   "metadata": {},
   "source": [
    "# Random Forest"
   ]
  },
  {
   "cell_type": "code",
   "execution_count": 12,
   "metadata": {},
   "outputs": [
    {
     "name": "stdout",
     "output_type": "stream",
     "text": [
      "Mean Absolute Error: 0.5713829787234043\n",
      "Mean Squared Error: 0.5452324468085106\n",
      "Root Mean Squared Error: 0.738398569072632\n"
     ]
    }
   ],
   "source": [
    "from sklearn.ensemble import RandomForestRegressor,RandomForestClassifier\n",
    "regressor = RandomForestRegressor(n_estimators=20, random_state=0)  \n",
    "regressor.fit(X_train, y_train)  \n",
    "y_pred = regressor.predict(X_test) \n",
    "\n",
    "from sklearn import metrics\n",
    "\n",
    "print('Mean Absolute Error:', metrics.mean_absolute_error(y_test, y_pred))  \n",
    "print('Mean Squared Error:', metrics.mean_squared_error(y_test, y_pred))  \n",
    "print('Root Mean Squared Error:', np.sqrt(metrics.mean_squared_error(y_test, y_pred)))"
   ]
  },
  {
   "cell_type": "markdown",
   "metadata": {},
   "source": [
    "# SVR"
   ]
  },
  {
   "cell_type": "code",
   "execution_count": 13,
   "metadata": {},
   "outputs": [
    {
     "name": "stdout",
     "output_type": "stream",
     "text": [
      "Mean Absolute Error: 0.7076592330661619\n",
      "Mean Squared Error: 0.7613599641251612\n",
      "Root Mean Squared Error: 0.8725594330045152\n"
     ]
    }
   ],
   "source": [
    "from sklearn.svm import SVR\n",
    "svr = SVR(gamma=0.001, C=1.0, epsilon=0.2)\n",
    "svr.fit(X_train, y_train)\n",
    "y_pred=svr.predict(X_test)\n",
    "\n",
    "from sklearn import metrics\n",
    "\n",
    "print('Mean Absolute Error:', metrics.mean_absolute_error(y_test, y_pred))  \n",
    "print('Mean Squared Error:', metrics.mean_squared_error(y_test, y_pred))  \n",
    "print('Root Mean Squared Error:', np.sqrt(metrics.mean_squared_error(y_test, y_pred)))"
   ]
  },
  {
   "cell_type": "code",
   "execution_count": null,
   "metadata": {},
   "outputs": [],
   "source": []
  }
 ],
 "metadata": {
  "kernelspec": {
   "display_name": "Python 3",
   "language": "python",
   "name": "python3"
  },
  "language_info": {
   "codemirror_mode": {
    "name": "ipython",
    "version": 3
   },
   "file_extension": ".py",
   "mimetype": "text/x-python",
   "name": "python",
   "nbconvert_exporter": "python",
   "pygments_lexer": "ipython3",
   "version": "3.6.5"
  }
 },
 "nbformat": 4,
 "nbformat_minor": 2
}
